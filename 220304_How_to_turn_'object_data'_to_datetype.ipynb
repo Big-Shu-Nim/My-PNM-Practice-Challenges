{
  "nbformat": 4,
  "nbformat_minor": 0,
  "metadata": {
    "colab": {
      "name": "220304_How to turn 'object data' to datetype.ipynb",
      "provenance": [],
      "authorship_tag": "ABX9TyOT0u6VlscqA3tJfIW7FCi+",
      "include_colab_link": true
    },
    "kernelspec": {
      "name": "python3",
      "display_name": "Python 3"
    },
    "language_info": {
      "name": "python"
    }
  },
  "cells": [
    {
      "cell_type": "markdown",
      "metadata": {
        "id": "view-in-github",
        "colab_type": "text"
      },
      "source": [
        "<a href=\"https://colab.research.google.com/github/Big-Shu-Nim/My-PNM-Practice-Challenges/blob/main/220304_How_to_turn_'object_data'_to_datetype.ipynb\" target=\"_parent\"><img src=\"https://colab.research.google.com/assets/colab-badge.svg\" alt=\"Open In Colab\"/></a>"
      ]
    },
    {
      "cell_type": "code",
      "execution_count": 8,
      "metadata": {
        "colab": {
          "base_uri": "https://localhost:8080/"
        },
        "id": "SBTcv7jg18gd",
        "outputId": "2ca2dbe7-e7fc-4016-bfce-f94681b29432"
      },
      "outputs": [
        {
          "output_type": "stream",
          "name": "stdout",
          "text": [
            "          datetime  계절  공휴일  근무일  날씨    온도    체감온도  습도   풍속\n",
            "0  2011-01-01 0:00   1    0    0   1  9.84  14.395  81  0.0\n",
            "1  2011-01-01 1:00   1    0    0   1  9.02  13.635  80  0.0\n",
            "2  2011-01-01 2:00   1    0    0   1  9.02  13.635  80  0.0\n",
            "          datetime  계절  공휴일  근무일  날씨     온도    체감온도  습도       풍속\n",
            "0  2011-01-20 0:00   1    0    1   1  10.66  11.365  56  26.0027\n",
            "1  2011-01-20 1:00   1    0    1   1  10.66  13.635  56   0.0000\n",
            "2  2011-01-20 2:00   1    0    1   1  10.66  13.635  56   0.0000\n",
            "         癤풼atetime  count\n",
            "0  2011-01-01 0:00     16\n",
            "1  2011-01-01 1:00     40\n",
            "2  2011-01-01 2:00     32\n"
          ]
        }
      ],
      "source": [
        "import pandas as pd\n",
        "\n",
        "x_train=pd.read_csv('bike_x_train.csv', encoding='cp949')\n",
        "x_test=pd.read_csv('bike_x_test.csv' , encoding='cp949')\n",
        "y_train=pd.read_csv('bike_y_train.csv' , encoding='cp949')\n",
        "print(x_train.head(3))\n",
        "print(x_test.head(3))\n",
        "print(y_train.head(3))\n"
      ]
    },
    {
      "cell_type": "code",
      "source": [
        "print(x_train.shape)\n",
        "print(x_test.shape)\n",
        "print(y_train.shape)"
      ],
      "metadata": {
        "colab": {
          "base_uri": "https://localhost:8080/"
        },
        "id": "TREPEfin22Ai",
        "outputId": "e610e775-7218-424f-84e5-5acfc0728301"
      },
      "execution_count": 9,
      "outputs": [
        {
          "output_type": "stream",
          "name": "stdout",
          "text": [
            "(10886, 9)\n",
            "(6493, 9)\n",
            "(10886, 2)\n"
          ]
        }
      ]
    },
    {
      "cell_type": "code",
      "source": [
        "print(x_train.info())"
      ],
      "metadata": {
        "colab": {
          "base_uri": "https://localhost:8080/"
        },
        "id": "q-20vFw229sh",
        "outputId": "2c221e51-0c59-4ce4-c915-99bc136c1887"
      },
      "execution_count": 10,
      "outputs": [
        {
          "output_type": "stream",
          "name": "stdout",
          "text": [
            "<class 'pandas.core.frame.DataFrame'>\n",
            "RangeIndex: 10886 entries, 0 to 10885\n",
            "Data columns (total 9 columns):\n",
            " #   Column    Non-Null Count  Dtype  \n",
            "---  ------    --------------  -----  \n",
            " 0   datetime  10886 non-null  object \n",
            " 1   계절        10886 non-null  int64  \n",
            " 2   공휴일       10886 non-null  int64  \n",
            " 3   근무일       10886 non-null  int64  \n",
            " 4   날씨        10886 non-null  int64  \n",
            " 5   온도        10886 non-null  float64\n",
            " 6   체감온도      10886 non-null  float64\n",
            " 7   습도        10886 non-null  int64  \n",
            " 8   풍속        10886 non-null  float64\n",
            "dtypes: float64(3), int64(5), object(1)\n",
            "memory usage: 765.5+ KB\n",
            "None\n"
          ]
        }
      ]
    },
    {
      "cell_type": "code",
      "source": [
        "print(x_train['계절'].unique())\n",
        "print(x_train['공휴일'].unique())\n",
        "print(x_train['근무일'].unique())"
      ],
      "metadata": {
        "colab": {
          "base_uri": "https://localhost:8080/"
        },
        "id": "PkXET7Oj3efS",
        "outputId": "b2017fda-262a-4fc6-9981-f2278671c19f"
      },
      "execution_count": 11,
      "outputs": [
        {
          "output_type": "stream",
          "name": "stdout",
          "text": [
            "[1 2 3 4]\n",
            "[0 1]\n",
            "[0 1]\n"
          ]
        }
      ]
    },
    {
      "cell_type": "code",
      "source": [
        "print(x_train.describe().T)\n"
      ],
      "metadata": {
        "colab": {
          "base_uri": "https://localhost:8080/"
        },
        "id": "WU611qfp30fJ",
        "outputId": "3dc85c1e-1d13-4046-b6fe-55f6faa79089"
      },
      "execution_count": 12,
      "outputs": [
        {
          "output_type": "stream",
          "name": "stdout",
          "text": [
            "        count       mean        std   min      25%     50%      75%       max\n",
            "계절    10886.0   2.506614   1.116174  1.00   2.0000   3.000   4.0000    4.0000\n",
            "공휴일   10886.0   0.028569   0.166599  0.00   0.0000   0.000   0.0000    1.0000\n",
            "근무일   10886.0   0.680875   0.466159  0.00   0.0000   1.000   1.0000    1.0000\n",
            "날씨    10886.0   1.418427   0.633839  1.00   1.0000   1.000   2.0000    4.0000\n",
            "온도    10886.0  20.230860   7.791590  0.82  13.9400  20.500  26.2400   41.0000\n",
            "체감온도  10886.0  23.655084   8.474601  0.76  16.6650  24.240  31.0600   45.4550\n",
            "습도    10886.0  61.886460  19.245033  0.00  47.0000  62.000  77.0000  100.0000\n",
            "풍속    10886.0  12.799395   8.164537  0.00   7.0015  12.998  16.9979   56.9969\n"
          ]
        }
      ]
    },
    {
      "cell_type": "code",
      "source": [
        "#어떻게 두개의 데이터프레임을 합치나요? \n",
        "data=pd.concat([x_train,y_train], axis=1)\n",
        "#  axis=1을 하면 열을 기준으로 같은행을 그대로 쓰고 케이스만 덧붙인다."
      ],
      "metadata": {
        "id": "99gBQG3m4BI-"
      },
      "execution_count": 14,
      "outputs": []
    },
    {
      "cell_type": "code",
      "source": [
        "print(data.groupby(['계절'])['count'].sum())"
      ],
      "metadata": {
        "colab": {
          "base_uri": "https://localhost:8080/"
        },
        "id": "FRJEi9nS4_3E",
        "outputId": "cb4a2bc8-2b84-4a30-cc0f-89a53619113c"
      },
      "execution_count": 15,
      "outputs": [
        {
          "output_type": "stream",
          "name": "stdout",
          "text": [
            "계절\n",
            "1    312498\n",
            "2    588282\n",
            "3    640662\n",
            "4    544034\n",
            "Name: count, dtype: int64\n"
          ]
        }
      ]
    },
    {
      "cell_type": "code",
      "source": [
        "print(data.groupby(['공휴일'])['count'].sum())"
      ],
      "metadata": {
        "colab": {
          "base_uri": "https://localhost:8080/"
        },
        "id": "fTLHQSe75JF7",
        "outputId": "464ea783-b042-460d-8109-5f66ff743f44"
      },
      "execution_count": 17,
      "outputs": [
        {
          "output_type": "stream",
          "name": "stdout",
          "text": [
            "공휴일\n",
            "0    2027668\n",
            "1      57808\n",
            "Name: count, dtype: int64\n"
          ]
        }
      ]
    },
    {
      "cell_type": "code",
      "source": [
        "print(data.groupby(['근무일'])['count'].sum())"
      ],
      "metadata": {
        "colab": {
          "base_uri": "https://localhost:8080/"
        },
        "id": "fWpKNx4-5b3V",
        "outputId": "0964c2e7-7911-44ed-b0ba-83151a5ea8cb"
      },
      "execution_count": 18,
      "outputs": [
        {
          "output_type": "stream",
          "name": "stdout",
          "text": [
            "근무일\n",
            "0     654872\n",
            "1    1430604\n",
            "Name: count, dtype: int64\n"
          ]
        }
      ]
    },
    {
      "cell_type": "code",
      "source": [
        "print(data.groupby(['날씨'])['count'].sum())"
      ],
      "metadata": {
        "colab": {
          "base_uri": "https://localhost:8080/"
        },
        "id": "14rC8oNm52K0",
        "outputId": "30661e16-07a2-4dfd-d129-317d217b8e30"
      },
      "execution_count": 20,
      "outputs": [
        {
          "output_type": "stream",
          "name": "stdout",
          "text": [
            "날씨\n",
            "1    1476063\n",
            "2     507160\n",
            "3     102089\n",
            "4        164\n",
            "Name: count, dtype: int64\n"
          ]
        }
      ]
    },
    {
      "cell_type": "code",
      "source": [
        "#object 타입의 날짜가 있어요. 이것을 활용하기 위해서는 연도 | 월 | 요일 | 시간대로 나눠야해요.\n",
        "#어떻게하죠?"
      ],
      "metadata": {
        "id": "7A1S1jBj6J8Q"
      },
      "execution_count": null,
      "outputs": []
    },
    {
      "cell_type": "code",
      "source": [
        "#1. 해당 칼럼을 날짜로 변경해야해요\n",
        "#2. 각 값을 년/월/요일/시간으로 분리해야한답니다.\n",
        "#3. 요일정보가 없는경우 직접 만들수 있어요. "
      ],
      "metadata": {
        "id": "qumcottG6bpd"
      },
      "execution_count": 21,
      "outputs": []
    },
    {
      "cell_type": "code",
      "source": [
        "x_train['datetime']=pd.to_datetime(x_train['datetime'])\n",
        "                                   "
      ],
      "metadata": {
        "id": "LHh3zLIp6wvM"
      },
      "execution_count": 24,
      "outputs": []
    },
    {
      "cell_type": "code",
      "source": [
        "x_train['year']=x_train['datetime'].dt.year"
      ],
      "metadata": {
        "id": "m7zSHsDg7Lds"
      },
      "execution_count": 25,
      "outputs": []
    },
    {
      "cell_type": "code",
      "source": [
        "print(x_train['year'].unique())"
      ],
      "metadata": {
        "colab": {
          "base_uri": "https://localhost:8080/"
        },
        "id": "6U4HN33X7Vw_",
        "outputId": "9490bdab-84ac-46dc-a8cc-833c077d1bcc"
      },
      "execution_count": 27,
      "outputs": [
        {
          "output_type": "stream",
          "name": "stdout",
          "text": [
            "[2011 2012]\n"
          ]
        }
      ]
    },
    {
      "cell_type": "code",
      "source": [
        "x_train['month']= x_train['datetime'].dt.month\n",
        "print(x_train['month'].unique())"
      ],
      "metadata": {
        "colab": {
          "base_uri": "https://localhost:8080/"
        },
        "id": "lS241IJ77gSn",
        "outputId": "1c73a236-1a24-4c0f-9e0f-e406c1374620"
      },
      "execution_count": 30,
      "outputs": [
        {
          "output_type": "stream",
          "name": "stdout",
          "text": [
            "[ 1  2  3  4  5  6  7  8  9 10 11 12]\n"
          ]
        }
      ]
    },
    {
      "cell_type": "code",
      "source": [
        "  x_train['day']=x_train['datetime'].dt.day"
      ],
      "metadata": {
        "id": "bwMclBn27ujs"
      },
      "execution_count": 34,
      "outputs": []
    },
    {
      "cell_type": "code",
      "source": [
        "print(x_train['day'].unique())"
      ],
      "metadata": {
        "colab": {
          "base_uri": "https://localhost:8080/"
        },
        "id": "pNRJbQUa8KKK",
        "outputId": "f0c74dce-fcc4-4cc3-efe9-92003b0ce8bf"
      },
      "execution_count": 35,
      "outputs": [
        {
          "output_type": "stream",
          "name": "stdout",
          "text": [
            "[ 1  2  3  4  5  6  7  8  9 10 11 12 13 14 15 16 17 18 19]\n"
          ]
        }
      ]
    },
    {
      "cell_type": "code",
      "source": [
        "x_train['hour']=x_train['datetime'].dt.hour\n",
        "print(x_train['hour'].unique())"
      ],
      "metadata": {
        "colab": {
          "base_uri": "https://localhost:8080/"
        },
        "id": "qK1h6FtQ8TLs",
        "outputId": "a6443e70-a3c2-4994-e746-5129eb7e7f26"
      },
      "execution_count": 36,
      "outputs": [
        {
          "output_type": "stream",
          "name": "stdout",
          "text": [
            "[ 0  1  2  3  4  5  6  7  8  9 10 11 12 13 14 15 16 17 18 19 20 21 22 23]\n"
          ]
        }
      ]
    },
    {
      "cell_type": "code",
      "source": [
        "x_train['dayofweek'] = x_train['datetime'].dt.dayofweek\n",
        "print(x_train['dayofweek'].unique())"
      ],
      "metadata": {
        "colab": {
          "base_uri": "https://localhost:8080/"
        },
        "id": "b5rSrJt48bdo",
        "outputId": "462ec012-5406-4eb7-c433-9a86b3be1782"
      },
      "execution_count": 38,
      "outputs": [
        {
          "output_type": "stream",
          "name": "stdout",
          "text": [
            "[5 6 0 1 2 3 4]\n"
          ]
        }
      ]
    },
    {
      "cell_type": "code",
      "source": [
        "data2=pd.concat([x_train,y_train], axis=1)"
      ],
      "metadata": {
        "id": "bpN-IVKz80v3"
      },
      "execution_count": 39,
      "outputs": []
    },
    {
      "cell_type": "code",
      "source": [
        "print(data2.groupby(['year'])['count'].sum())"
      ],
      "metadata": {
        "colab": {
          "base_uri": "https://localhost:8080/"
        },
        "id": "dvffxtoX87ME",
        "outputId": "fd7bf6be-edf0-4dc3-a6d2-b14232488bf5"
      },
      "execution_count": 40,
      "outputs": [
        {
          "output_type": "stream",
          "name": "stdout",
          "text": [
            "year\n",
            "2011     781979\n",
            "2012    1303497\n",
            "Name: count, dtype: int64\n"
          ]
        }
      ]
    },
    {
      "cell_type": "code",
      "source": [
        "print(data2.groupby(['month'])['count'].sum())"
      ],
      "metadata": {
        "colab": {
          "base_uri": "https://localhost:8080/"
        },
        "id": "YiHOUAUT9Au5",
        "outputId": "414e7f07-4c9f-401e-af16-9f86c1c180a5"
      },
      "execution_count": 41,
      "outputs": [
        {
          "output_type": "stream",
          "name": "stdout",
          "text": [
            "month\n",
            "1      79884\n",
            "2      99113\n",
            "3     133501\n",
            "4     167402\n",
            "5     200147\n",
            "6     220733\n",
            "7     214617\n",
            "8     213516\n",
            "9     212529\n",
            "10    207434\n",
            "11    176440\n",
            "12    160160\n",
            "Name: count, dtype: int64\n"
          ]
        }
      ]
    },
    {
      "cell_type": "code",
      "source": [
        "print(data2.groupby(['hour'])['count'].sum())"
      ],
      "metadata": {
        "colab": {
          "base_uri": "https://localhost:8080/"
        },
        "id": "33crrX0f9Az1",
        "outputId": "a5a5d2d7-7971-46c0-e39a-28e5c4eb1fd9"
      },
      "execution_count": 42,
      "outputs": [
        {
          "output_type": "stream",
          "name": "stdout",
          "text": [
            "hour\n",
            "0      25088\n",
            "1      15372\n",
            "2      10259\n",
            "3       5091\n",
            "4       2832\n",
            "5       8935\n",
            "6      34698\n",
            "7      96968\n",
            "8     165060\n",
            "9     100910\n",
            "10     79667\n",
            "11     95857\n",
            "12    116968\n",
            "13    117551\n",
            "14    111010\n",
            "15    115960\n",
            "16    144266\n",
            "17    213757\n",
            "18    196472\n",
            "19    143767\n",
            "20    104204\n",
            "21     79057\n",
            "22     60911\n",
            "23     40816\n",
            "Name: count, dtype: int64\n"
          ]
        }
      ]
    },
    {
      "cell_type": "code",
      "source": [
        "print(data2.groupby(['dayofweek'])['count'].sum())"
      ],
      "metadata": {
        "colab": {
          "base_uri": "https://localhost:8080/"
        },
        "id": "jjaOD_h69A7_",
        "outputId": "13207b7d-6f78-4cb8-dde8-f240bd85222d"
      },
      "execution_count": 43,
      "outputs": [
        {
          "output_type": "stream",
          "name": "stdout",
          "text": [
            "dayofweek\n",
            "0    295296\n",
            "1    291985\n",
            "2    292226\n",
            "3    306401\n",
            "4    302504\n",
            "5    311518\n",
            "6    285546\n",
            "Name: count, dtype: int64\n"
          ]
        }
      ]
    },
    {
      "cell_type": "code",
      "source": [
        "print(data2.groupby(['day'])['count'].sum())"
      ],
      "metadata": {
        "colab": {
          "base_uri": "https://localhost:8080/"
        },
        "id": "zudsY4e59BFo",
        "outputId": "eefc2a3e-b4e1-42bd-d70f-c4ce51ffcedf"
      },
      "execution_count": 44,
      "outputs": [
        {
          "output_type": "stream",
          "name": "stdout",
          "text": [
            "day\n",
            "1     103692\n",
            "2     105381\n",
            "3     111561\n",
            "4     112335\n",
            "5     109115\n",
            "6     108600\n",
            "7     105486\n",
            "8     102770\n",
            "9     108041\n",
            "10    111645\n",
            "11    111146\n",
            "12    109257\n",
            "13    111448\n",
            "14    112406\n",
            "15    115677\n",
            "16    109837\n",
            "17    118255\n",
            "18    108437\n",
            "19    110387\n",
            "Name: count, dtype: int64\n"
          ]
        }
      ]
    },
    {
      "cell_type": "code",
      "source": [
        ""
      ],
      "metadata": {
        "id": "fPZIKAqH9W3P"
      },
      "execution_count": null,
      "outputs": []
    }
  ]
}