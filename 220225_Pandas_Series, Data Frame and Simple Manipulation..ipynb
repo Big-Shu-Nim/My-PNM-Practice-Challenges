{
 "cells": [
  {
   "cell_type": "markdown",
   "id": "7ed13d1b",
   "metadata": {},
   "source": [
    "The type of data in PANDAS: Seires, Pandas \n",
    "\n",
    "    What I'm going to learn : \n",
    "\n",
    "1.You'll be able to discern the difference between Series tpyes and DataFrame types.\n",
    "\n",
    "2.You'll be able to make a Series types by using Python.\n",
    "\n",
    "3.You'll be able to make a Data Frame types by using Python.\n",
    "\n",
    "4.You'll be able to do 6 diffrent maniuplations. "
   ]
  },
  {
   "cell_type": "code",
   "execution_count": 2,
   "id": "a5b33cc8",
   "metadata": {},
   "outputs": [],
   "source": [
    "import pandas as pd"
   ]
  },
  {
   "cell_type": "code",
   "execution_count": 7,
   "id": "e24fc45c",
   "metadata": {},
   "outputs": [],
   "source": [
    "# Make a list of fruits \n",
    "fruits=['apple','banana','grapes','strawberry']"
   ]
  },
  {
   "cell_type": "code",
   "execution_count": 9,
   "id": "eca76605",
   "metadata": {},
   "outputs": [
    {
     "name": "stdout",
     "output_type": "stream",
     "text": [
      "0         apple\n",
      "1        banana\n",
      "2        grapes\n",
      "3    strawberry\n",
      "dtype: object\n"
     ]
    }
   ],
   "source": [
    "#Tweak the list into series types \n",
    "seires_f=pd.Series(fruits)\n",
    "print(seires_f)"
   ]
  },
  {
   "cell_type": "code",
   "execution_count": 20,
   "id": "383613dd",
   "metadata": {},
   "outputs": [
    {
     "name": "stdout",
     "output_type": "stream",
     "text": [
      "(['apple', 'Seasoned', 34], ['banana', 'UnSeasoned', 20], ['grapes', 'UnSeasoned', 15], ['Strawberry', 'UnSeasoned', 15])\n"
     ]
    }
   ],
   "source": [
    "# Make a list of fruits in 2-d array[1 row, 2 col]\n",
    "fruits_2=(['apple','Seasoned',34],\n",
    "       ['banana','UnSeasoned',20],\n",
    "       ['grapes','UnSeasoned',15],\n",
    "       ['Strawberry','UnSeasoned',15])\n",
    "print(fruits_2)"
   ]
  },
  {
   "cell_type": "code",
   "execution_count": 21,
   "id": "addbcba2",
   "metadata": {},
   "outputs": [
    {
     "name": "stdout",
     "output_type": "stream",
     "text": [
      "            0           1   2\n",
      "0       apple    Seasoned  34\n",
      "1      banana  UnSeasoned  20\n",
      "2      grapes  UnSeasoned  15\n",
      "3  Strawberry  UnSeasoned  15\n"
     ]
    }
   ],
   "source": [
    "#Tweak the list into Data Frame types \n",
    "fruits_2=pd.DataFrame(fruits_2)\n",
    "print(fruits_2)"
   ]
  },
  {
   "cell_type": "code",
   "execution_count": 22,
   "id": "64660af6",
   "metadata": {},
   "outputs": [
    {
     "data": {
      "text/html": [
       "<div>\n",
       "<style scoped>\n",
       "    .dataframe tbody tr th:only-of-type {\n",
       "        vertical-align: middle;\n",
       "    }\n",
       "\n",
       "    .dataframe tbody tr th {\n",
       "        vertical-align: top;\n",
       "    }\n",
       "\n",
       "    .dataframe thead th {\n",
       "        text-align: right;\n",
       "    }\n",
       "</style>\n",
       "<table border=\"1\" class=\"dataframe\">\n",
       "  <thead>\n",
       "    <tr style=\"text-align: right;\">\n",
       "      <th></th>\n",
       "      <th>0</th>\n",
       "      <th>1</th>\n",
       "      <th>2</th>\n",
       "    </tr>\n",
       "  </thead>\n",
       "  <tbody>\n",
       "    <tr>\n",
       "      <th>1st</th>\n",
       "      <td>apple</td>\n",
       "      <td>Seasoned</td>\n",
       "      <td>34</td>\n",
       "    </tr>\n",
       "    <tr>\n",
       "      <th>2nd</th>\n",
       "      <td>banana</td>\n",
       "      <td>UnSeasoned</td>\n",
       "      <td>20</td>\n",
       "    </tr>\n",
       "    <tr>\n",
       "      <th>3rd</th>\n",
       "      <td>grapes</td>\n",
       "      <td>UnSeasoned</td>\n",
       "      <td>15</td>\n",
       "    </tr>\n",
       "    <tr>\n",
       "      <th>4th</th>\n",
       "      <td>Strawberry</td>\n",
       "      <td>UnSeasoned</td>\n",
       "      <td>15</td>\n",
       "    </tr>\n",
       "  </tbody>\n",
       "</table>\n",
       "</div>"
      ],
      "text/plain": [
       "              0           1   2\n",
       "1st       apple    Seasoned  34\n",
       "2nd      banana  UnSeasoned  20\n",
       "3rd      grapes  UnSeasoned  15\n",
       "4th  Strawberry  UnSeasoned  15"
      ]
     },
     "execution_count": 22,
     "metadata": {},
     "output_type": "execute_result"
    }
   ],
   "source": [
    "#How can you change the indext of a Dataframe?\n",
    "fruits_2.index=['1st','2nd','3rd','4th']\n",
    "fruits_2"
   ]
  },
  {
   "cell_type": "code",
   "execution_count": 23,
   "id": "9fc0538a",
   "metadata": {},
   "outputs": [
    {
     "data": {
      "text/html": [
       "<div>\n",
       "<style scoped>\n",
       "    .dataframe tbody tr th:only-of-type {\n",
       "        vertical-align: middle;\n",
       "    }\n",
       "\n",
       "    .dataframe tbody tr th {\n",
       "        vertical-align: top;\n",
       "    }\n",
       "\n",
       "    .dataframe thead th {\n",
       "        text-align: right;\n",
       "    }\n",
       "</style>\n",
       "<table border=\"1\" class=\"dataframe\">\n",
       "  <thead>\n",
       "    <tr style=\"text-align: right;\">\n",
       "      <th></th>\n",
       "      <th>Name</th>\n",
       "      <th>Ripeness</th>\n",
       "      <th>Quantity</th>\n",
       "    </tr>\n",
       "  </thead>\n",
       "  <tbody>\n",
       "    <tr>\n",
       "      <th>1st</th>\n",
       "      <td>apple</td>\n",
       "      <td>Seasoned</td>\n",
       "      <td>34</td>\n",
       "    </tr>\n",
       "    <tr>\n",
       "      <th>2nd</th>\n",
       "      <td>banana</td>\n",
       "      <td>UnSeasoned</td>\n",
       "      <td>20</td>\n",
       "    </tr>\n",
       "    <tr>\n",
       "      <th>3rd</th>\n",
       "      <td>grapes</td>\n",
       "      <td>UnSeasoned</td>\n",
       "      <td>15</td>\n",
       "    </tr>\n",
       "    <tr>\n",
       "      <th>4th</th>\n",
       "      <td>Strawberry</td>\n",
       "      <td>UnSeasoned</td>\n",
       "      <td>15</td>\n",
       "    </tr>\n",
       "  </tbody>\n",
       "</table>\n",
       "</div>"
      ],
      "text/plain": [
       "           Name    Ripeness  Quantity\n",
       "1st       apple    Seasoned        34\n",
       "2nd      banana  UnSeasoned        20\n",
       "3rd      grapes  UnSeasoned        15\n",
       "4th  Strawberry  UnSeasoned        15"
      ]
     },
     "execution_count": 23,
     "metadata": {},
     "output_type": "execute_result"
    }
   ],
   "source": [
    "#How can you change the columns of a Dataframe?\n",
    "fruits_2.columns=['Name','Ripeness','Quantity']\n",
    "fruits_2"
   ]
  },
  {
   "cell_type": "code",
   "execution_count": 24,
   "id": "ae1565c1",
   "metadata": {},
   "outputs": [
    {
     "data": {
      "text/plain": [
       "1st    34\n",
       "2nd    20\n",
       "3rd    15\n",
       "4th    15\n",
       "Name: Quantity, dtype: int64"
      ]
     },
     "execution_count": 24,
     "metadata": {},
     "output_type": "execute_result"
    }
   ],
   "source": [
    "#How can you extract a specific column in a DF?\n",
    "fruits_2['Quantity']"
   ]
  },
  {
   "cell_type": "code",
   "execution_count": 27,
   "id": "6dbd4fc5",
   "metadata": {},
   "outputs": [
    {
     "data": {
      "text/plain": [
       "pandas.core.series.Series"
      ]
     },
     "execution_count": 27,
     "metadata": {},
     "output_type": "execute_result"
    }
   ],
   "source": [
    "type(fruits_2['Quantity'])\n",
    "#Note: It's Series type"
   ]
  },
  {
   "cell_type": "code",
   "execution_count": 25,
   "id": "0ae9e684",
   "metadata": {},
   "outputs": [
    {
     "data": {
      "text/html": [
       "<div>\n",
       "<style scoped>\n",
       "    .dataframe tbody tr th:only-of-type {\n",
       "        vertical-align: middle;\n",
       "    }\n",
       "\n",
       "    .dataframe tbody tr th {\n",
       "        vertical-align: top;\n",
       "    }\n",
       "\n",
       "    .dataframe thead th {\n",
       "        text-align: right;\n",
       "    }\n",
       "</style>\n",
       "<table border=\"1\" class=\"dataframe\">\n",
       "  <thead>\n",
       "    <tr style=\"text-align: right;\">\n",
       "      <th></th>\n",
       "      <th>Quantity</th>\n",
       "      <th>Name</th>\n",
       "    </tr>\n",
       "  </thead>\n",
       "  <tbody>\n",
       "    <tr>\n",
       "      <th>1st</th>\n",
       "      <td>34</td>\n",
       "      <td>apple</td>\n",
       "    </tr>\n",
       "    <tr>\n",
       "      <th>2nd</th>\n",
       "      <td>20</td>\n",
       "      <td>banana</td>\n",
       "    </tr>\n",
       "    <tr>\n",
       "      <th>3rd</th>\n",
       "      <td>15</td>\n",
       "      <td>grapes</td>\n",
       "    </tr>\n",
       "    <tr>\n",
       "      <th>4th</th>\n",
       "      <td>15</td>\n",
       "      <td>Strawberry</td>\n",
       "    </tr>\n",
       "  </tbody>\n",
       "</table>\n",
       "</div>"
      ],
      "text/plain": [
       "     Quantity        Name\n",
       "1st        34       apple\n",
       "2nd        20      banana\n",
       "3rd        15      grapes\n",
       "4th        15  Strawberry"
      ]
     },
     "execution_count": 25,
     "metadata": {},
     "output_type": "execute_result"
    }
   ],
   "source": [
    "#How can you extract multiple columns in a DF?\n",
    "fruits_2[['Quantity','Name']]"
   ]
  },
  {
   "cell_type": "markdown",
   "id": "305bdfe4",
   "metadata": {},
   "source": [
    "In my opinon brakets in here siginify a dimension."
   ]
  },
  {
   "cell_type": "code",
   "execution_count": 28,
   "id": "a00770a3",
   "metadata": {},
   "outputs": [
    {
     "data": {
      "text/html": [
       "<div>\n",
       "<style scoped>\n",
       "    .dataframe tbody tr th:only-of-type {\n",
       "        vertical-align: middle;\n",
       "    }\n",
       "\n",
       "    .dataframe tbody tr th {\n",
       "        vertical-align: top;\n",
       "    }\n",
       "\n",
       "    .dataframe thead th {\n",
       "        text-align: right;\n",
       "    }\n",
       "</style>\n",
       "<table border=\"1\" class=\"dataframe\">\n",
       "  <thead>\n",
       "    <tr style=\"text-align: right;\">\n",
       "      <th></th>\n",
       "      <th>Name</th>\n",
       "      <th>Ripeness</th>\n",
       "      <th>Quantity</th>\n",
       "    </tr>\n",
       "  </thead>\n",
       "  <tbody>\n",
       "    <tr>\n",
       "      <th>2nd</th>\n",
       "      <td>banana</td>\n",
       "      <td>UnSeasoned</td>\n",
       "      <td>20</td>\n",
       "    </tr>\n",
       "    <tr>\n",
       "      <th>3rd</th>\n",
       "      <td>grapes</td>\n",
       "      <td>UnSeasoned</td>\n",
       "      <td>15</td>\n",
       "    </tr>\n",
       "  </tbody>\n",
       "</table>\n",
       "</div>"
      ],
      "text/plain": [
       "       Name    Ripeness  Quantity\n",
       "2nd  banana  UnSeasoned        20\n",
       "3rd  grapes  UnSeasoned        15"
      ]
     },
     "execution_count": 28,
     "metadata": {},
     "output_type": "execute_result"
    }
   ],
   "source": [
    "#How can you extract a specific row in a DF?_1\n",
    "#1 Index Order\n",
    "fruits_2[1:3]"
   ]
  },
  {
   "cell_type": "code",
   "execution_count": 29,
   "id": "91e3f108",
   "metadata": {},
   "outputs": [],
   "source": [
    "#Note: The Process begins at 1 but the end point doesn't acutally 3. It's before the number. "
   ]
  },
  {
   "cell_type": "code",
   "execution_count": 31,
   "id": "e1bfb411",
   "metadata": {},
   "outputs": [
    {
     "data": {
      "text/html": [
       "<div>\n",
       "<style scoped>\n",
       "    .dataframe tbody tr th:only-of-type {\n",
       "        vertical-align: middle;\n",
       "    }\n",
       "\n",
       "    .dataframe tbody tr th {\n",
       "        vertical-align: top;\n",
       "    }\n",
       "\n",
       "    .dataframe thead th {\n",
       "        text-align: right;\n",
       "    }\n",
       "</style>\n",
       "<table border=\"1\" class=\"dataframe\">\n",
       "  <thead>\n",
       "    <tr style=\"text-align: right;\">\n",
       "      <th></th>\n",
       "      <th>Name</th>\n",
       "      <th>Ripeness</th>\n",
       "      <th>Quantity</th>\n",
       "    </tr>\n",
       "  </thead>\n",
       "  <tbody>\n",
       "    <tr>\n",
       "      <th>2nd</th>\n",
       "      <td>banana</td>\n",
       "      <td>UnSeasoned</td>\n",
       "      <td>20</td>\n",
       "    </tr>\n",
       "    <tr>\n",
       "      <th>3rd</th>\n",
       "      <td>grapes</td>\n",
       "      <td>UnSeasoned</td>\n",
       "      <td>15</td>\n",
       "    </tr>\n",
       "  </tbody>\n",
       "</table>\n",
       "</div>"
      ],
      "text/plain": [
       "       Name    Ripeness  Quantity\n",
       "2nd  banana  UnSeasoned        20\n",
       "3rd  grapes  UnSeasoned        15"
      ]
     },
     "execution_count": 31,
     "metadata": {},
     "output_type": "execute_result"
    }
   ],
   "source": [
    "#How can you extract a specific row in a DF?_2\n",
    "#2 The names of Index\n",
    "fruits_2['2nd':'3rd']"
   ]
  },
  {
   "cell_type": "code",
   "execution_count": null,
   "id": "6d5f722b",
   "metadata": {},
   "outputs": [],
   "source": []
  }
 ],
 "metadata": {
  "kernelspec": {
   "display_name": "Python 3",
   "language": "python",
   "name": "python3"
  },
  "language_info": {
   "codemirror_mode": {
    "name": "ipython",
    "version": 3
   },
   "file_extension": ".py",
   "mimetype": "text/x-python",
   "name": "python",
   "nbconvert_exporter": "python",
   "pygments_lexer": "ipython3",
   "version": "3.8.8"
  }
 },
 "nbformat": 4,
 "nbformat_minor": 5
}
