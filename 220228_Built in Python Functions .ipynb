{
 "cells": [
  {
   "cell_type": "markdown",
   "id": "c21cdd45",
   "metadata": {},
   "source": [
    "After this practice you'll learn:\n",
    "\n",
    " -create a 2-d table in python\n",
    " \n",
    " -sum up a certain column of value\n",
    " \n",
    " -find a maximum value\n",
    " \n",
    " -find a minimum value \n",
    " \n",
    " -calculate median\n",
    " \n",
    " -calculate mean\n",
    " \n",
    " -caluculate mode\n",
    " \n",
    " -calcualte quantile \n",
    " \n",
    " -other descriptive statistic value such as varaicne or SD\n"
   ]
  },
  {
   "cell_type": "code",
   "execution_count": null,
   "id": "e8de841c",
   "metadata": {},
   "outputs": [],
   "source": [
    "import pandas as pd\n",
    "import numpy as np\n",
    "import warnings\n",
    "warnings.filterwarnings('ignore')"
   ]
  },
  {
   "cell_type": "code",
   "execution_count": 10,
   "id": "1c0013f5",
   "metadata": {},
   "outputs": [
    {
     "name": "stdout",
     "output_type": "stream",
     "text": [
      "{'age': [20, 23, 49, 38, 32, 29, 30, 32, 26], 'gender': ['male', 'female', 'male', 'female', 'female', 'female', 'female', 'male', nan]}\n"
     ]
    }
   ],
   "source": [
    "# 1-1 I want to make 2-d array using python. how?\n",
    "#you can make by creaing sets of dictionary for each value. \n",
    "data= {\\\n",
    "      'age': [20,23,49,38,32,29,30,32,26],\\\n",
    "      'gender': ['male','female','male','female','female','female','female','male', np.nan]\\\n",
    "      }\n",
    "print(data)"
   ]
  },
  {
   "cell_type": "markdown",
   "id": "13ec1aea",
   "metadata": {},
   "source": [
    "Key needs 'quotation marks' value needs 'bracket' and curly bracket holds differnt a set of dictionary. "
   ]
  },
  {
   "cell_type": "code",
   "execution_count": 11,
   "id": "9ae26758",
   "metadata": {},
   "outputs": [
    {
     "name": "stdout",
     "output_type": "stream",
     "text": [
      "   age  gender\n",
      "0   20    male\n",
      "1   23  female\n",
      "2   49    male\n",
      "3   38  female\n",
      "4   32  female\n",
      "5   29  female\n",
      "6   30  female\n",
      "7   32    male\n",
      "8   26     NaN\n"
     ]
    }
   ],
   "source": [
    "#1-2 put sets of dicnationary into Dataframe\n",
    "data=pd.DataFrame(data)\n",
    "print(data)"
   ]
  },
  {
   "cell_type": "code",
   "execution_count": 12,
   "id": "34fc129c",
   "metadata": {},
   "outputs": [
    {
     "data": {
      "text/plain": [
       "279"
      ]
     },
     "execution_count": 12,
     "metadata": {},
     "output_type": "execute_result"
    }
   ],
   "source": [
    "#2I want to sum up the age column. how?\n",
    "data['age'].sum()"
   ]
  },
  {
   "cell_type": "markdown",
   "id": "105145c5",
   "metadata": {},
   "source": [
    "When you wan to retreive a certain row or columns, this is the process you need:\n",
    "    1.Braing a DF\n",
    "    2.call the name of column\n",
    "    "
   ]
  },
  {
   "cell_type": "code",
   "execution_count": 13,
   "id": "dc195d9d",
   "metadata": {},
   "outputs": [
    {
     "data": {
      "text/plain": [
       "49"
      ]
     },
     "execution_count": 13,
     "metadata": {},
     "output_type": "execute_result"
    }
   ],
   "source": [
    "# I wan to know the maximum value in the 'age' column. how?\n",
    "data['age'].max()"
   ]
  },
  {
   "cell_type": "code",
   "execution_count": 14,
   "id": "09640ef5",
   "metadata": {},
   "outputs": [
    {
     "data": {
      "text/plain": [
       "20"
      ]
     },
     "execution_count": 14,
     "metadata": {},
     "output_type": "execute_result"
    }
   ],
   "source": [
    "# I wan to know the minimum value in the 'age' column. how?\n",
    "data['age'].min()"
   ]
  },
  {
   "cell_type": "code",
   "execution_count": 15,
   "id": "5a9b4938",
   "metadata": {},
   "outputs": [
    {
     "data": {
      "text/plain": [
       "31.0"
      ]
     },
     "execution_count": 15,
     "metadata": {},
     "output_type": "execute_result"
    }
   ],
   "source": [
    "# I want to know the means ofthe 'age' column. how?\n",
    "data['age'].mean()"
   ]
  },
  {
   "cell_type": "code",
   "execution_count": 16,
   "id": "92381b1d",
   "metadata": {},
   "outputs": [
    {
     "data": {
      "text/plain": [
       "30.0"
      ]
     },
     "execution_count": 16,
     "metadata": {},
     "output_type": "execute_result"
    }
   ],
   "source": [
    "# I want to know the median oft he 'age' column. how?\n",
    "data['age'].median()"
   ]
  },
  {
   "cell_type": "code",
   "execution_count": 17,
   "id": "02e6ad68",
   "metadata": {},
   "outputs": [
    {
     "data": {
      "text/plain": [
       "73.75"
      ]
     },
     "execution_count": 17,
     "metadata": {},
     "output_type": "execute_result"
    }
   ],
   "source": [
    "# I want to know the variance of the 'age' column. how?\n",
    "data['age'].var()"
   ]
  },
  {
   "cell_type": "code",
   "execution_count": 19,
   "id": "655cc9ef",
   "metadata": {},
   "outputs": [
    {
     "data": {
      "text/plain": [
       "8.587782018658833"
      ]
     },
     "execution_count": 19,
     "metadata": {},
     "output_type": "execute_result"
    }
   ],
   "source": [
    "# I want to know the standard deviation of the 'age' column. how?\n",
    "data['age'].std()"
   ]
  },
  {
   "cell_type": "code",
   "execution_count": 20,
   "id": "40e2b638",
   "metadata": {},
   "outputs": [
    {
     "data": {
      "text/plain": [
       "0      8000\n",
       "1     12167\n",
       "2    117649\n",
       "3     54872\n",
       "4     32768\n",
       "5     24389\n",
       "6     27000\n",
       "7     32768\n",
       "8     17576\n",
       "Name: age, dtype: int64"
      ]
     },
     "execution_count": 20,
     "metadata": {},
     "output_type": "execute_result"
    }
   ],
   "source": [
    "# I want to power the 'age' columns \n",
    "pow(data['age'],3)"
   ]
  },
  {
   "cell_type": "code",
   "execution_count": 24,
   "id": "8e29b087",
   "metadata": {},
   "outputs": [
    {
     "name": "stdout",
     "output_type": "stream",
     "text": [
      "26.0\n",
      "30.0\n",
      "32.0\n",
      "49.0\n"
     ]
    }
   ],
   "source": [
    "# I want to know 1st, 2nd, 3rd, 4th quantile of the column 'age'. how?\n",
    "print(data['age'].quantile(q=0.25))\n",
    "print(data['age'].quantile(q=0.5))\n",
    "print(data['age'].quantile(q=0.75))\n",
    "print(data['age'].quantile(q=1))\n",
    "\n"
   ]
  }
 ],
 "metadata": {
  "kernelspec": {
   "display_name": "Python 3",
   "language": "python",
   "name": "python3"
  },
  "language_info": {
   "codemirror_mode": {
    "name": "ipython",
    "version": 3
   },
   "file_extension": ".py",
   "mimetype": "text/x-python",
   "name": "python",
   "nbconvert_exporter": "python",
   "pygments_lexer": "ipython3",
   "version": "3.8.8"
  }
 },
 "nbformat": 4,
 "nbformat_minor": 5
}
