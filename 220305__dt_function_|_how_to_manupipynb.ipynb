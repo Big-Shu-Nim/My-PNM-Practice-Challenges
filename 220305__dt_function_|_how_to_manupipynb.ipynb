{
  "nbformat": 4,
  "nbformat_minor": 0,
  "metadata": {
    "colab": {
      "name": "220305_.dt function | how to manupipynb",
      "provenance": [],
      "collapsed_sections": [],
      "authorship_tag": "ABX9TyO3Zei1JPmjajqCD1L1bFD5",
      "include_colab_link": true
    },
    "kernelspec": {
      "name": "python3",
      "display_name": "Python 3"
    },
    "language_info": {
      "name": "python"
    }
  },
  "cells": [
    {
      "cell_type": "markdown",
      "metadata": {
        "id": "view-in-github",
        "colab_type": "text"
      },
      "source": [
        "<a href=\"https://colab.research.google.com/github/Big-Shu-Nim/My-PNM-Practice-Challenges/blob/main/220305__dt_function_%7C_how_to_manupipynb.ipynb\" target=\"_parent\"><img src=\"https://colab.research.google.com/assets/colab-badge.svg\" alt=\"Open In Colab\"/></a>"
      ]
    },
    {
      "cell_type": "code",
      "execution_count": 5,
      "metadata": {
        "colab": {
          "base_uri": "https://localhost:8080/"
        },
        "id": "bdQuHmlXcfDs",
        "outputId": "f05422a5-9100-44fe-c4b8-1506d0b7987c"
      },
      "outputs": [
        {
          "output_type": "stream",
          "name": "stdout",
          "text": [
            "          datetime  계절  공휴일  근무일  날씨    온도    체감온도  습도   풍속\n",
            "0  2011-01-01 0:00   1    0    0   1  9.84  14.395  81  0.0\n",
            "1  2011-01-01 1:00   1    0    0   1  9.02  13.635  80  0.0\n",
            "2  2011-01-01 2:00   1    0    0   1  9.02  13.635  80  0.0\n",
            "          datetime  계절  공휴일  근무일  날씨     온도    체감온도  습도       풍속\n",
            "0  2011-01-20 0:00   1    0    1   1  10.66  11.365  56  26.0027\n",
            "1  2011-01-20 1:00   1    0    1   1  10.66  13.635  56   0.0000\n",
            "2  2011-01-20 2:00   1    0    1   1  10.66  13.635  56   0.0000\n",
            "         癤풼atetime  count\n",
            "0  2011-01-01 0:00     16\n",
            "1  2011-01-01 1:00     40\n",
            "2  2011-01-01 2:00     32\n"
          ]
        }
      ],
      "source": [
        "import pandas as pd\n",
        "import warnings\n",
        "warnings.filterwarnings('ignore')\n",
        "x_train=pd.read_csv('bike_x_train.csv', encoding='cp949')\n",
        "y_train=pd.read_csv('bike_y_train.csv', encoding='cp949')\n",
        "x_test=pd.read_csv('bike_x_test.csv', encoding='cp949')\n",
        "print(x_train.head(3))\n",
        "print(x_test.head(3))\n",
        "print(y_train.head(3))\n"
      ]
    },
    {
      "cell_type": "code",
      "source": [
        "print(x_train.info())"
      ],
      "metadata": {
        "colab": {
          "base_uri": "https://localhost:8080/"
        },
        "id": "_y-x_0uTdZRV",
        "outputId": "6c021c18-2d53-4540-f533-a1f81066a0eb"
      },
      "execution_count": 6,
      "outputs": [
        {
          "output_type": "stream",
          "name": "stdout",
          "text": [
            "<class 'pandas.core.frame.DataFrame'>\n",
            "RangeIndex: 10886 entries, 0 to 10885\n",
            "Data columns (total 9 columns):\n",
            " #   Column    Non-Null Count  Dtype  \n",
            "---  ------    --------------  -----  \n",
            " 0   datetime  10886 non-null  object \n",
            " 1   계절        10886 non-null  int64  \n",
            " 2   공휴일       10886 non-null  int64  \n",
            " 3   근무일       10886 non-null  int64  \n",
            " 4   날씨        10886 non-null  int64  \n",
            " 5   온도        10886 non-null  float64\n",
            " 6   체감온도      10886 non-null  float64\n",
            " 7   습도        10886 non-null  int64  \n",
            " 8   풍속        10886 non-null  float64\n",
            "dtypes: float64(3), int64(5), object(1)\n",
            "memory usage: 765.5+ KB\n",
            "None\n"
          ]
        }
      ]
    },
    {
      "cell_type": "code",
      "source": [
        "print(x_test.info())"
      ],
      "metadata": {
        "colab": {
          "base_uri": "https://localhost:8080/"
        },
        "id": "11HOjZS1dgLz",
        "outputId": "929f18f7-7e7e-4933-9181-7a8bbe372df8"
      },
      "execution_count": 7,
      "outputs": [
        {
          "output_type": "stream",
          "name": "stdout",
          "text": [
            "<class 'pandas.core.frame.DataFrame'>\n",
            "RangeIndex: 6493 entries, 0 to 6492\n",
            "Data columns (total 9 columns):\n",
            " #   Column    Non-Null Count  Dtype  \n",
            "---  ------    --------------  -----  \n",
            " 0   datetime  6493 non-null   object \n",
            " 1   계절        6493 non-null   int64  \n",
            " 2   공휴일       6493 non-null   int64  \n",
            " 3   근무일       6493 non-null   int64  \n",
            " 4   날씨        6493 non-null   int64  \n",
            " 5   온도        6493 non-null   float64\n",
            " 6   체감온도      6493 non-null   float64\n",
            " 7   습도        6493 non-null   int64  \n",
            " 8   풍속        6493 non-null   float64\n",
            "dtypes: float64(3), int64(5), object(1)\n",
            "memory usage: 456.7+ KB\n",
            "None\n"
          ]
        }
      ]
    },
    {
      "cell_type": "code",
      "source": [
        "print(y_train.info())"
      ],
      "metadata": {
        "colab": {
          "base_uri": "https://localhost:8080/"
        },
        "id": "6yYkArOHdlE7",
        "outputId": "b1a8623a-9475-4ff3-f3ed-7677576e0185"
      },
      "execution_count": 9,
      "outputs": [
        {
          "output_type": "stream",
          "name": "stdout",
          "text": [
            "<class 'pandas.core.frame.DataFrame'>\n",
            "RangeIndex: 10886 entries, 0 to 10885\n",
            "Data columns (total 2 columns):\n",
            " #   Column     Non-Null Count  Dtype \n",
            "---  ------     --------------  ----- \n",
            " 0   癤풼atetime  10886 non-null  object\n",
            " 1   count      10886 non-null  int64 \n",
            "dtypes: int64(1), object(1)\n",
            "memory usage: 170.2+ KB\n",
            "None\n"
          ]
        }
      ]
    },
    {
      "cell_type": "code",
      "source": [
        "print(x_train.shape)\n",
        "print(x_test.shape)\n",
        "print(y_train.shape)"
      ],
      "metadata": {
        "colab": {
          "base_uri": "https://localhost:8080/"
        },
        "id": "4qivWG-Ddte1",
        "outputId": "253f5ca0-10e8-4472-b0d4-9ab4d791f0d6"
      },
      "execution_count": 10,
      "outputs": [
        {
          "output_type": "stream",
          "name": "stdout",
          "text": [
            "(10886, 9)\n",
            "(6493, 9)\n",
            "(10886, 2)\n"
          ]
        }
      ]
    },
    {
      "cell_type": "code",
      "source": [
        "x_train_2a=x_train.copy()\n",
        "#Just in case I make a mistake."
      ],
      "metadata": {
        "id": "j5p4XDugd6qJ"
      },
      "execution_count": 14,
      "outputs": []
    },
    {
      "cell_type": "code",
      "source": [
        "#--x_train['year']=x_train.dt['year']\n",
        "#this was the thing I could remembe for today. \n",
        "#Now I'm going to relearn my code"
      ],
      "metadata": {
        "id": "8pc67sFceNvT"
      },
      "execution_count": 15,
      "outputs": []
    },
    {
      "cell_type": "code",
      "source": [
        "x_train['datetime']=pd.to_datetime(x_train['datetime'])\n",
        "#object타입인 날짜 정보를 pd.to_datetime 함수를 이용해서 바꾼다."
      ],
      "metadata": {
        "id": "6T8eZwm3e4Ri"
      },
      "execution_count": 16,
      "outputs": []
    },
    {
      "cell_type": "markdown",
      "source": [
        "Object인 날짜 데이터를 날짜형 데이터로 바꿔주는 매쏘드는 무엇인가요?"
      ],
      "metadata": {
        "id": "TJGdu3i5fGgx"
      }
    },
    {
      "cell_type": "code",
      "source": [
        "x_train['year']=x_train['datetime'].dt.year\n",
        "x_train['month']=x_train['datetime'].dt.month\n",
        "x_train['day']=x_train['datetime'].dt.day\n",
        "x_train['hour']=x_train['datetime'].dt.hour\n",
        "x_train['dayofweek']=x_train['datetime'].dt.dayofweek\n"
      ],
      "metadata": {
        "id": "Dl1PYyX4fQoc"
      },
      "execution_count": 20,
      "outputs": []
    },
    {
      "cell_type": "code",
      "source": [
        "def D_helper(datetime):\n",
        "  x_train['year']=x_train['datetime'].dt.year\n",
        "  x_train['month']=x_train['datetime'].dt.month\n",
        "  x_train['day']=x_train['datetime'].dt.day\n",
        "  x_train['hour']=x_train['datetime'].dt.hour\n",
        "  x_train['dayofweek']=x_train['datetime'].dt.dayofweek"
      ],
      "metadata": {
        "id": "veAtnc79gfL1"
      },
      "execution_count": 22,
      "outputs": []
    },
    {
      "cell_type": "code",
      "source": [
        "# Somethig is werid. I don't this is going to work."
      ],
      "metadata": {
        "id": "nLwdCnI3iR4T"
      },
      "execution_count": null,
      "outputs": []
    },
    {
      "cell_type": "markdown",
      "source": [
        "List Manipulation Practice \n"
      ],
      "metadata": {
        "id": "PviaPcoCiwUd"
      }
    },
    {
      "cell_type": "code",
      "source": [
        "list1=[30,10,20]\n",
        "print('현재리스트', list1)\n",
        "print('현재 리스트 : %s'%list1)"
      ],
      "metadata": {
        "colab": {
          "base_uri": "https://localhost:8080/"
        },
        "id": "HCniBlhjjnQm",
        "outputId": "6683f193-c98d-433a-8795-ce35429824c7"
      },
      "execution_count": 26,
      "outputs": [
        {
          "output_type": "stream",
          "name": "stdout",
          "text": [
            "현재리스트 [30, 10, 20]\n",
            "현재 리스트 : [30, 10, 20]\n"
          ]
        }
      ]
    },
    {
      "cell_type": "code",
      "source": [
        "#현재 차이를 모르겠다. 무엇인지 모르고 타이핑은 의미없으므로 조작함수만 배우겠다"
      ],
      "metadata": {
        "id": "4PEdtOpQkbk-"
      },
      "execution_count": 28,
      "outputs": []
    },
    {
      "cell_type": "code",
      "source": [
        "list1.append(40)\n",
        "print('현재리스트:', list1)\n",
        "print('pop()으로 추출한 값 :',list1.pop())\n",
        "list1.sort()\n",
        "print('sort이후의값:',list1)\n",
        "list1.reverse()\n",
        "print('after Reverse',list1)\n",
        "list1.insert(2,222)\n",
        "print('after insert', list1)\n",
        "list1.remove(222)\n",
        "print('after remove', list1) # 왜 안없어지지\n",
        "list1.extend([78,88,77])\n",
        "print('after extend', list1)\n",
        "print('77value counts', list1.count(77))"
      ],
      "metadata": {
        "colab": {
          "base_uri": "https://localhost:8080/"
        },
        "id": "-rIffu8MlCqp",
        "outputId": "d241b47a-3da9-47d0-8e55-0e7636666c4b"
      },
      "execution_count": 44,
      "outputs": [
        {
          "output_type": "stream",
          "name": "stdout",
          "text": [
            "현재리스트: [40, 222, 30, 20, 10, 78, 88, 77, 40]\n",
            "pop()으로 추출한 값 : 40\n",
            "sort이후의값: [10, 20, 30, 40, 77, 78, 88, 222]\n",
            "after Reverse [222, 88, 78, 77, 40, 30, 20, 10]\n",
            "after insert [222, 88, 222, 78, 77, 40, 30, 20, 10]\n",
            "after remove [88, 222, 78, 77, 40, 30, 20, 10]\n",
            "after extend [88, 222, 78, 77, 40, 30, 20, 10, 78, 88, 77]\n",
            "77value counts 2\n"
          ]
        }
      ]
    }
  ]
}